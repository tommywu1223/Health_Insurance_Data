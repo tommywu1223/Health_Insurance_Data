{
 "cells": [
  {
   "cell_type": "markdown",
   "id": "05982da1",
   "metadata": {},
   "source": [
    "# Cover Me! —  Analyzing Indicators That Determine Health Premium Costs \n",
    "In this project, I will be analyzing health insurance premium costs for policy holders. The goal of the study is to determine the indicators that determine the price of a policy holder's premium. The analysis performed will be used to draw some conclusions on where to increase health services and the type of policy holders that have incresed premium costs. The exact collection methodology and source is not known to me, the data is openly availible online at multiple sites. More information on the data can be found on [kaggle](https://www.kaggle.com/simranjain17/insurance) where I sourced the dataset from. The data set will be analyzed to determine the differences that certain indicators play in premium costs. The following indicators will be isolated to draw inferences on how premium costs change: \n",
    "- By Sex \n",
    "- By Age\n",
    "- By BMI\n",
    "- By # of Children\n",
    "- By if there are smokers or not\n",
    "- By region \n",
    "\n",
    "Summary of Analysis\n",
    "After completing an analysis of the data set, the conclusion that was drawn was that policy holders that were primarily women in southeast regions had the highest premium charges. Further compounded by other factors such as if they are smokers and specifically have 2-3 children. I also concluded that the best areas to increase health services were most likely metropolitian areas with individuals in their early 20s but also contain an elderly crowd. \n",
    "\n",
    "For more details, please refer to the full analysis below."
   ]
  },
  {
   "cell_type": "markdown",
   "id": "0efac0d2",
   "metadata": {},
   "source": [
    "# Exploring Health Insurance Premiums\n",
    "I want to do a quick exploration of the dataset that contains the coverage data to get a quick overview on how it is structured.\n",
    "\n",
    "I'll import the data into pandas and gather some information on the beginning and end of the data set as well as the columns. "
   ]
  },
  {
   "cell_type": "code",
   "execution_count": 1,
   "id": "fa2a9e8b",
   "metadata": {},
   "outputs": [],
   "source": [
    "# import pandas library\n",
    "import pandas as pd\n",
    "insurance = pd.read_csv('insurance.csv')"
   ]
  },
  {
   "cell_type": "markdown",
   "id": "e12c77d3",
   "metadata": {},
   "source": [
    "I want to get a bit more information about the data set so I'll print the first and last rows and use .info( ) to explore. "
   ]
  },
  {
   "cell_type": "code",
   "execution_count": 2,
   "id": "fa007b58",
   "metadata": {},
   "outputs": [
    {
     "data": {
      "text/html": [
       "<div>\n",
       "<style scoped>\n",
       "    .dataframe tbody tr th:only-of-type {\n",
       "        vertical-align: middle;\n",
       "    }\n",
       "\n",
       "    .dataframe tbody tr th {\n",
       "        vertical-align: top;\n",
       "    }\n",
       "\n",
       "    .dataframe thead th {\n",
       "        text-align: right;\n",
       "    }\n",
       "</style>\n",
       "<table border=\"1\" class=\"dataframe\">\n",
       "  <thead>\n",
       "    <tr style=\"text-align: right;\">\n",
       "      <th></th>\n",
       "      <th>age</th>\n",
       "      <th>sex</th>\n",
       "      <th>bmi</th>\n",
       "      <th>children</th>\n",
       "      <th>smoker</th>\n",
       "      <th>region</th>\n",
       "      <th>charges</th>\n",
       "    </tr>\n",
       "  </thead>\n",
       "  <tbody>\n",
       "    <tr>\n",
       "      <th>0</th>\n",
       "      <td>19</td>\n",
       "      <td>female</td>\n",
       "      <td>27.900</td>\n",
       "      <td>0</td>\n",
       "      <td>yes</td>\n",
       "      <td>southwest</td>\n",
       "      <td>16884.92400</td>\n",
       "    </tr>\n",
       "    <tr>\n",
       "      <th>1</th>\n",
       "      <td>18</td>\n",
       "      <td>male</td>\n",
       "      <td>33.770</td>\n",
       "      <td>1</td>\n",
       "      <td>no</td>\n",
       "      <td>southeast</td>\n",
       "      <td>1725.55230</td>\n",
       "    </tr>\n",
       "    <tr>\n",
       "      <th>2</th>\n",
       "      <td>28</td>\n",
       "      <td>male</td>\n",
       "      <td>33.000</td>\n",
       "      <td>3</td>\n",
       "      <td>no</td>\n",
       "      <td>southeast</td>\n",
       "      <td>4449.46200</td>\n",
       "    </tr>\n",
       "    <tr>\n",
       "      <th>3</th>\n",
       "      <td>33</td>\n",
       "      <td>male</td>\n",
       "      <td>22.705</td>\n",
       "      <td>0</td>\n",
       "      <td>no</td>\n",
       "      <td>northwest</td>\n",
       "      <td>21984.47061</td>\n",
       "    </tr>\n",
       "    <tr>\n",
       "      <th>4</th>\n",
       "      <td>32</td>\n",
       "      <td>male</td>\n",
       "      <td>28.880</td>\n",
       "      <td>0</td>\n",
       "      <td>no</td>\n",
       "      <td>northwest</td>\n",
       "      <td>3866.85520</td>\n",
       "    </tr>\n",
       "  </tbody>\n",
       "</table>\n",
       "</div>"
      ],
      "text/plain": [
       "   age     sex     bmi  children smoker     region      charges\n",
       "0   19  female  27.900         0    yes  southwest  16884.92400\n",
       "1   18    male  33.770         1     no  southeast   1725.55230\n",
       "2   28    male  33.000         3     no  southeast   4449.46200\n",
       "3   33    male  22.705         0     no  northwest  21984.47061\n",
       "4   32    male  28.880         0     no  northwest   3866.85520"
      ]
     },
     "execution_count": 2,
     "metadata": {},
     "output_type": "execute_result"
    }
   ],
   "source": [
    "# print first five rows\n",
    "insurance.head(5)"
   ]
  },
  {
   "cell_type": "code",
   "execution_count": 3,
   "id": "f77fe374",
   "metadata": {},
   "outputs": [
    {
     "data": {
      "text/html": [
       "<div>\n",
       "<style scoped>\n",
       "    .dataframe tbody tr th:only-of-type {\n",
       "        vertical-align: middle;\n",
       "    }\n",
       "\n",
       "    .dataframe tbody tr th {\n",
       "        vertical-align: top;\n",
       "    }\n",
       "\n",
       "    .dataframe thead th {\n",
       "        text-align: right;\n",
       "    }\n",
       "</style>\n",
       "<table border=\"1\" class=\"dataframe\">\n",
       "  <thead>\n",
       "    <tr style=\"text-align: right;\">\n",
       "      <th></th>\n",
       "      <th>age</th>\n",
       "      <th>sex</th>\n",
       "      <th>bmi</th>\n",
       "      <th>children</th>\n",
       "      <th>smoker</th>\n",
       "      <th>region</th>\n",
       "      <th>charges</th>\n",
       "    </tr>\n",
       "  </thead>\n",
       "  <tbody>\n",
       "    <tr>\n",
       "      <th>1333</th>\n",
       "      <td>50</td>\n",
       "      <td>male</td>\n",
       "      <td>30.97</td>\n",
       "      <td>3</td>\n",
       "      <td>no</td>\n",
       "      <td>northwest</td>\n",
       "      <td>10600.5483</td>\n",
       "    </tr>\n",
       "    <tr>\n",
       "      <th>1334</th>\n",
       "      <td>18</td>\n",
       "      <td>female</td>\n",
       "      <td>31.92</td>\n",
       "      <td>0</td>\n",
       "      <td>no</td>\n",
       "      <td>northeast</td>\n",
       "      <td>2205.9808</td>\n",
       "    </tr>\n",
       "    <tr>\n",
       "      <th>1335</th>\n",
       "      <td>18</td>\n",
       "      <td>female</td>\n",
       "      <td>36.85</td>\n",
       "      <td>0</td>\n",
       "      <td>no</td>\n",
       "      <td>southeast</td>\n",
       "      <td>1629.8335</td>\n",
       "    </tr>\n",
       "    <tr>\n",
       "      <th>1336</th>\n",
       "      <td>21</td>\n",
       "      <td>female</td>\n",
       "      <td>25.80</td>\n",
       "      <td>0</td>\n",
       "      <td>no</td>\n",
       "      <td>southwest</td>\n",
       "      <td>2007.9450</td>\n",
       "    </tr>\n",
       "    <tr>\n",
       "      <th>1337</th>\n",
       "      <td>61</td>\n",
       "      <td>female</td>\n",
       "      <td>29.07</td>\n",
       "      <td>0</td>\n",
       "      <td>yes</td>\n",
       "      <td>northwest</td>\n",
       "      <td>29141.3603</td>\n",
       "    </tr>\n",
       "  </tbody>\n",
       "</table>\n",
       "</div>"
      ],
      "text/plain": [
       "      age     sex    bmi  children smoker     region     charges\n",
       "1333   50    male  30.97         3     no  northwest  10600.5483\n",
       "1334   18  female  31.92         0     no  northeast   2205.9808\n",
       "1335   18  female  36.85         0     no  southeast   1629.8335\n",
       "1336   21  female  25.80         0     no  southwest   2007.9450\n",
       "1337   61  female  29.07         0    yes  northwest  29141.3603"
      ]
     },
     "execution_count": 3,
     "metadata": {},
     "output_type": "execute_result"
    }
   ],
   "source": [
    "# print last five rows\n",
    "insurance.tail(5)"
   ]
  },
  {
   "cell_type": "code",
   "execution_count": 4,
   "id": "6d0b620e",
   "metadata": {},
   "outputs": [
    {
     "name": "stdout",
     "output_type": "stream",
     "text": [
      "<class 'pandas.core.frame.DataFrame'>\n",
      "RangeIndex: 1338 entries, 0 to 1337\n",
      "Data columns (total 7 columns):\n",
      " #   Column    Non-Null Count  Dtype  \n",
      "---  ------    --------------  -----  \n",
      " 0   age       1338 non-null   int64  \n",
      " 1   sex       1338 non-null   object \n",
      " 2   bmi       1338 non-null   float64\n",
      " 3   children  1338 non-null   int64  \n",
      " 4   smoker    1338 non-null   object \n",
      " 5   region    1338 non-null   object \n",
      " 6   charges   1338 non-null   float64\n",
      "dtypes: float64(2), int64(2), object(3)\n",
      "memory usage: 73.3+ KB\n"
     ]
    }
   ],
   "source": [
    "# show information about rows and columns\n",
    "insurance.info()"
   ]
  },
  {
   "cell_type": "markdown",
   "id": "49acebc6",
   "metadata": {},
   "source": [
    "The data set contains 1337 rows and 7 columns, there are no null values in any columns so no initial cleaning will have to be done. Each row is a policy holder with the columns providing descriptions about the individual such as age, bmi, and premium costs. The columns and their descriptions are as followed:\n",
    "- 1.age -  age of the policy holder\n",
    "- 2.sex - gender of the policy holder\n",
    "- 3.bmi - body mass index \n",
    "- 4.children - # of children \n",
    "- 5.smoker - whether or not the policy holder is a smoker\n",
    "- 6.region - region where the policy holder lives\n",
    "- 7.charges - how much the policy holder is charged for their premium. \n",
    "\n",
    "Based off the values given in the 'charges' column, it is reasonable to assume that those values are the annual premium charges that each policy holder is paying, and not a typical monthly payment. "
   ]
  },
  {
   "cell_type": "markdown",
   "id": "b384dde9",
   "metadata": {},
   "source": [
    "# Analyzing Premium Charges\n",
    "The first thing that I'll inspect is the premium charges that each policy holder is paying. I'll plot the frequency of charges to see what the distribution of values in that column is looking like. "
   ]
  },
  {
   "cell_type": "code",
   "execution_count": 5,
   "id": "d1a2610d",
   "metadata": {},
   "outputs": [
    {
     "data": {
      "image/png": "[encoded data removed]",
      "text/plain": [
       "<Figure size 432x288 with 1 Axes>"
      ]
     },
     "metadata": {
      "needs_background": "light"
     },
     "output_type": "display_data"
    },
    {
     "data": {
      "text/plain": [
       "count     1338.000000\n",
       "mean     13270.422265\n",
       "std      12110.011237\n",
       "min       1121.873900\n",
       "25%       4740.287150\n",
       "50%       9382.033000\n",
       "75%      16639.912515\n",
       "max      63770.428010\n",
       "Name: charges, dtype: float64"
      ]
     },
     "execution_count": 5,
     "metadata": {},
     "output_type": "execute_result"
    }
   ],
   "source": [
    "# import matplotlib library\n",
    "import matplotlib.pyplot as plt\n",
    "%matplotlib inline \n",
    "\n",
    "# plot histogram for 'charges' column\n",
    "charges = insurance['charges']\n",
    "charges.plot.hist()\n",
    "plt.show()\n",
    "charges.describe()"
   ]
  },
  {
   "cell_type": "markdown",
   "id": "86a33f4e",
   "metadata": {},
   "source": [
    "Based off the histogram above and the results of charges.describe( ), I can see that premium costs for the policy holders range from 1121.87 to 63770.43 annually. \n",
    "\n",
    "The other observations are as followed:\n",
    "- About 25% of the policy holders pay 4740.29 in premiums\n",
    "- About 50% of the policy holders pay 9382.03 in premiums\n",
    "- About 75% of the policy holders pay 16639.91 in premiums\n",
    "\n",
    "The mean of the charges is 13270.42 annually for a policy holder. Looking at all that information, it suggests that anything above the 75% mark in charges seems to be outlier of some sort. This is supported by the shape of the histogram as it is right-skewed, meaning that a majority of the values fall on the right side of the plot or the lower end. Thus, it can be inferred that most of the policy holders are not paying incredibly high premiums annually due to not needing as much coverage or other factors such as health and region. Though, it could also be that many of the policy holder chose a plan that had a lower premium but higher deductible. "
   ]
  },
  {
   "cell_type": "markdown",
   "id": "785a0001",
   "metadata": {},
   "source": [
    "# Charges by Sex\n",
    "Now that I have a general idea of the distribution in insurance premium costs, I want to see how different types of indicators play a part in how the price in premiums change.\n",
    "\n",
    "First, I'll take a look at sex, and how premium charges differ between males and females. "
   ]
  },
  {
   "cell_type": "code",
   "execution_count": 6,
   "id": "ecd47897",
   "metadata": {},
   "outputs": [],
   "source": [
    "# Seperate the sex column by male and female into two dataframes\n",
    "male = insurance[insurance['sex'] == 'male'].copy()\n",
    "female = insurance[insurance['sex'] == 'female'].copy()"
   ]
  },
  {
   "cell_type": "code",
   "execution_count": 7,
   "id": "105b7bae",
   "metadata": {},
   "outputs": [
    {
     "data": {
      "image/png": "[encoded data removed]",
      "text/plain": [
       "<Figure size 792x252 with 2 Axes>"
      ]
     },
     "metadata": {
      "needs_background": "light"
     },
     "output_type": "display_data"
    }
   ],
   "source": [
    "plt.figure(figsize =(11, 3.5))\n",
    "\n",
    "plt.subplot(1,2,1)\n",
    "plt.hist(male['charges'])\n",
    "plt.title('Premium Charges for Male Policy Holders')\n",
    "plt.xlabel('Charges')\n",
    "plt.ylabel('Frequency')\n",
    "plt.xlim([0, 65000])\n",
    "plt.ylim([0, 600])\n",
    "\n",
    "plt.subplot(1,2,2)\n",
    "plt.hist(female['charges'])\n",
    "plt.title('Premium Charges for Female Policy Holders')\n",
    "plt.xlabel('Charges')\n",
    "plt.ylabel('Frequency')\n",
    "plt.xlim([0, 65000])\n",
    "plt.ylim([0, 600])\n",
    "\n",
    "plt.show()"
   ]
  },
  {
   "cell_type": "code",
   "execution_count": 8,
   "id": "6498ce0b",
   "metadata": {},
   "outputs": [
    {
     "data": {
      "text/plain": [
       "count      662.000000\n",
       "mean     12569.578844\n",
       "std      11128.703801\n",
       "min       1607.510100\n",
       "25%       4885.158700\n",
       "50%       9412.962500\n",
       "75%      14454.691825\n",
       "max      63770.428010\n",
       "Name: charges, dtype: float64"
      ]
     },
     "execution_count": 8,
     "metadata": {},
     "output_type": "execute_result"
    }
   ],
   "source": [
    "female['charges'].describe()"
   ]
  },
  {
   "cell_type": "code",
   "execution_count": 9,
   "id": "ac580db8",
   "metadata": {},
   "outputs": [
    {
     "data": {
      "text/plain": [
       "count      676.000000\n",
       "mean     13956.751178\n",
       "std      12971.025915\n",
       "min       1121.873900\n",
       "25%       4619.134000\n",
       "50%       9369.615750\n",
       "75%      18989.590250\n",
       "max      62592.873090\n",
       "Name: charges, dtype: float64"
      ]
     },
     "execution_count": 9,
     "metadata": {},
     "output_type": "execute_result"
    }
   ],
   "source": [
    "male['charges'].describe()"
   ]
  },
  {
   "cell_type": "markdown",
   "id": "0d04185f",
   "metadata": {},
   "source": [
    "Based off the information above, There are a few interesting things to note. The first is how similar the plots are to one another. This suggests that gender doesn't play any real role in the price that policy holders are paying for their premium. Second, diving a bit deeper by using the built-in function .describe( ) shows that while very close, males do pay on average, about 1500 more than female policy holders do. Third, although on average, males are paying a higher premium annually, it is important to note that as individual policy holders, females are paying a higher premium annually. With the difference in minimum value between male and female policy holders having almost a 500 dollar difference. \n",
    "\n",
    "What this suggests to me is that while on average, males are paying more than females, looking at charges on a case to case basis, females are being charged more for coverage. This could be the result of the thinking that females are more likely to have health issues and see a doctor thus would go for a plan that has a higher premium but lower deductible to account for frequency of visits. This is supported in this [Healthline article](https://www.healthline.com/health-news/should-women-pay-more-healthcare-services) stating that before an update in the Affordable Care Act, women were as a higher risk for health insurance, due to their likelihood to see a doctor mroe frequently, live longer, and have babies. "
   ]
  },
  {
   "cell_type": "markdown",
   "id": "50acbed7",
   "metadata": {},
   "source": [
    "# Age Indicators\n",
    "Next, I'll take a look at the role, age plays in how the value in the 'charges' column fluctuates. I want to know if there is change in price as policy holders age that they are paying for in their premiums but more specfically how female and male policy holders are being charged as they age. "
   ]
  },
  {
   "cell_type": "code",
   "execution_count": 10,
   "id": "ba1278c7",
   "metadata": {},
   "outputs": [
    {
     "data": {
      "text/plain": [
       "age         0.282369\n",
       "bmi         0.225847\n",
       "children    0.074496\n",
       "charges     1.000000\n",
       "Name: charges, dtype: float64"
      ]
     },
     "execution_count": 10,
     "metadata": {},
     "output_type": "execute_result"
    }
   ],
   "source": [
    "male.corr()['charges']"
   ]
  },
  {
   "cell_type": "code",
   "execution_count": 11,
   "id": "ed5cc8fa",
   "metadata": {},
   "outputs": [
    {
     "data": {
      "text/plain": [
       "age         0.324575\n",
       "bmi         0.161419\n",
       "children    0.058492\n",
       "charges     1.000000\n",
       "Name: charges, dtype: float64"
      ]
     },
     "execution_count": 11,
     "metadata": {},
     "output_type": "execute_result"
    }
   ],
   "source": [
    "female.corr()['charges']"
   ]
  },
  {
   "cell_type": "code",
   "execution_count": 12,
   "id": "f60ff5eb",
   "metadata": {},
   "outputs": [
    {
     "name": "stdout",
     "output_type": "stream",
     "text": [
      "age\n",
      "18     7603.180557\n",
      "19     9876.241479\n",
      "20    12780.292557\n",
      "21     4193.191381\n",
      "22    12073.083743\n",
      "23     6249.169528\n",
      "24    14726.212134\n",
      "25    11436.821289\n",
      "26     6238.092207\n",
      "27    10407.656561\n",
      "28    11622.567716\n",
      "29    13298.580781\n",
      "30    15604.684805\n",
      "31    11546.072300\n",
      "32     9514.321854\n",
      "33    12264.365625\n",
      "34    12290.449530\n",
      "35    11265.833152\n",
      "36    17274.985462\n",
      "37    15956.808402\n",
      "38     9919.546487\n",
      "39    14356.309565\n",
      "40     9704.719357\n",
      "41    11537.872675\n",
      "42    13884.293811\n",
      "43    19999.669198\n",
      "44    14456.856598\n",
      "45    16782.582037\n",
      "46    14255.103088\n",
      "47    19344.029414\n",
      "48    15850.409109\n",
      "49    13307.131439\n",
      "50    18163.591449\n",
      "51    14280.192968\n",
      "52    20685.642063\n",
      "53    14640.653348\n",
      "54    20989.347485\n",
      "55    16245.625341\n",
      "56    18296.115673\n",
      "57    16184.369276\n",
      "58    14629.645304\n",
      "59    17726.974646\n",
      "60    26262.168367\n",
      "61    22039.190030\n",
      "62    21843.286953\n",
      "63    17200.753432\n",
      "64    23057.882975\n",
      "Name: charges, dtype: float64\n",
      "age\n",
      "18     6522.257919\n",
      "19     9611.799484\n",
      "20     7351.917571\n",
      "21     5350.394655\n",
      "22     7635.835562\n",
      "23    18590.470551\n",
      "24     6569.819790\n",
      "25     7993.993028\n",
      "26     6013.517349\n",
      "27    13961.746882\n",
      "28     6515.807413\n",
      "29     7341.088823\n",
      "30     9611.568646\n",
      "31     8744.112560\n",
      "32     8926.278728\n",
      "33    12438.700349\n",
      "34    10936.606712\n",
      "35    11351.976651\n",
      "36     6711.424371\n",
      "37    20254.940642\n",
      "38     6425.675692\n",
      "39     9398.489142\n",
      "40    13998.824182\n",
      "41     7624.685776\n",
      "42    12174.456208\n",
      "43    18587.201719\n",
      "44    17161.755149\n",
      "45    12738.361805\n",
      "46    14436.327300\n",
      "47    16076.638427\n",
      "48    13495.785693\n",
      "49    12084.881089\n",
      "50    12983.801714\n",
      "51    16990.847907\n",
      "52    15988.855532\n",
      "53    17401.208162\n",
      "54    16527.745466\n",
      "55    16083.465636\n",
      "56    11754.916000\n",
      "57    16710.001224\n",
      "58    13185.958395\n",
      "59    19974.849426\n",
      "60    17307.327752\n",
      "61    22010.952889\n",
      "62    16707.712059\n",
      "63    22345.556404\n",
      "64    23493.178700\n",
      "Name: charges, dtype: float64\n"
     ]
    }
   ],
   "source": [
    "# Group male and female policy holders by age\n",
    "by_age_male = male.groupby('age').mean()\n",
    "by_age_female = female.groupby('age').mean()\n",
    "\n",
    "print(by_age_male['charges'])\n",
    "print(by_age_female['charges'])"
   ]
  },
  {
   "cell_type": "code",
   "execution_count": 13,
   "id": "fbee877f",
   "metadata": {},
   "outputs": [
    {
     "data": {
      "image/png": "[encoded data removed]",
      "text/plain": [
       "<Figure size 792x252 with 2 Axes>"
      ]
     },
     "metadata": {
      "needs_background": "light"
     },
     "output_type": "display_data"
    }
   ],
   "source": [
    "plt.figure(figsize =(11, 3.5))\n",
    "\n",
    "plt.subplot(1,2,1)\n",
    "by_age_male['charges'].plot.line()\n",
    "plt.title('Premium Charges for Male Policy Holders by Age')\n",
    "plt.xlabel('Age')\n",
    "plt.ylabel('Frequency')\n",
    "plt.xlim([17, 65])\n",
    "plt.ylim([0, 30000])\n",
    "\n",
    "plt.subplot(1,2,2)\n",
    "by_age_female['charges'].plot.line()\n",
    "plt.title('Premium Charges for Female Policy Holders by Age')\n",
    "plt.xlabel('Age')\n",
    "plt.ylabel('Frequency')\n",
    "plt.xlim([17, 65])\n",
    "plt.ylim([0, 30000])\n",
    "\n",
    "plt.show()"
   ]
  },
  {
   "cell_type": "markdown",
   "id": "7be7fe9b",
   "metadata": {},
   "source": [
    "The line plot for male policy holders by age shows a more linear pattern than the line plot for female policy holders by age does. The plot for female policy holders by age seems to slightly more sproadic in nature.Although, male policy holders on average, are paying roughly the same as their female counterparts with a few noticeable expceptions: \n",
    "- At age 21, Male policy holders are paying roughly 1000 less than their female counterparts.\n",
    "- At age 23, the disparity is very noticeable as male policy holders are being charged roughly 6249.17 while female policy holders are paying 18590.47\n",
    "- At age 37, Male policy holders are charged 15956.81 on average, while female policy holders are charged 20254.94\n",
    "- Age age 60, Male policy holders are charged 26262.17 on average, while female policy holders are charged 17307.33\n",
    "\n",
    "What this tells me is that as the policy holders age, the premium charge that either a male and female policy holder pays per year increases quite similarly. The first conclusion that can be drawn is that typically as a policy holder ages, regardless of gender, the cost of the premium will go up. Then, there are the exceptions, the first being at age 21 where female policy holders are paying 5350.39 in comparison to male policy holders at 4193.19 which is a difference of over 1000 dollars. There are a variety of different reasons that one could conclude that with the most prominant to me being that this is the age where health insurance providers see female policy holders as beginning to become a risk so a higher premium is charged. The disparity really begins to show at age 23, with female policy holders being charged 3x as much as their male counterparts, on average. This could be the result of a combination of inflation each year and a growing number of young adults seeking health care due to medical conditions. Younger generations are more inclined to go see a doctor if they feel they have an issue that needs to be addressed. At age 37, women, on average are paying a little under 5000 more than males in premium charges. Finally, at age 60 is when male policy holders are paying more than their female counterparts, about 9000 more. This is more likely due to the fact that men are not expected to live as long as women do, so at that age, the possibility of having more delibriating health conditions might be more common. "
   ]
  },
  {
   "cell_type": "markdown",
   "id": "6d0a1ff2",
   "metadata": {},
   "source": [
    "# BMI Indicators\n",
    "After looking at how age plays a part in calculating premium charges, another category of interest would be BMI. weight plays a big part in determining the health of an individual so it would be rather interesting to see how much one's premiums would fluctuate depending on what their BMI was. "
   ]
  },
  {
   "cell_type": "code",
   "execution_count": 14,
   "id": "d35cdaeb",
   "metadata": {},
   "outputs": [
    {
     "data": {
      "image/png": "[encoded data removed]",
      "text/plain": [
       "<Figure size 432x288 with 1 Axes>"
      ]
     },
     "metadata": {
      "needs_background": "light"
     },
     "output_type": "display_data"
    }
   ],
   "source": [
    "male.plot.scatter('charges', 'bmi')\n",
    "plt.show()"
   ]
  },
  {
   "cell_type": "code",
   "execution_count": 15,
   "id": "2e906f49",
   "metadata": {},
   "outputs": [
    {
     "data": {
      "image/png": "[encoded data removed]",
      "text/plain": [
       "<Figure size 432x288 with 1 Axes>"
      ]
     },
     "metadata": {
      "needs_background": "light"
     },
     "output_type": "display_data"
    }
   ],
   "source": [
    "female.plot.scatter('charges', 'bmi')\n",
    "plt.show()"
   ]
  },
  {
   "cell_type": "markdown",
   "id": "783a1e3c",
   "metadata": {},
   "source": [
    "Both plots are similar in nature, There doesn't seem to be a strong correlation in either but both do have a slight positive correlation to them. This fits with the general idea that as BMI increases, the premium charge would as well, due to one's weight being taken into acccount as a health risk. If one's BMI is higher or lower than what the average is than it can be determined that these policy holders hold a higher risk of developing cardio-vascular and other weight-related diseases or issues. That would cause a higher uptick in coverage usuage to account for doctor's visits and medication need to combat said conditions. Although, an issue arises in that there is significant clumping of data points in both plots at the left most end suggesting that bmi has no real correlation with determining the price that a policy holder would pay in premium charges annually. BMI is also not a reliable indicator for determining one's health. As found in this [Harvard article](https://www.health.harvard.edu/blog/how-useful-is-the-body-mass-index-bmi-201603309339) about BMI as a reliable indicator for health and weight. BMi is considered an outdated measurement to determine health, as it does not classify metabolic health great at all. It frequently misclassifies metabolic health(the distribution of fat in one's body) frequently and is particularly unreliable for athletes, pregnant women, and even the elderly. "
   ]
  },
  {
   "cell_type": "markdown",
   "id": "04a4a96b",
   "metadata": {},
   "source": [
    "# Dependent Premiums\n",
    "Next, I want to inspect the 'children' column and understand how the # of children impact the premium that a policy holder pays. "
   ]
  },
  {
   "cell_type": "code",
   "execution_count": 16,
   "id": "5c1c62aa",
   "metadata": {},
   "outputs": [
    {
     "name": "stdout",
     "output_type": "stream",
     "text": [
      "children\n",
      "0    12832.696736\n",
      "1    13273.522458\n",
      "2    16187.095325\n",
      "3    16789.167419\n",
      "4    13782.284829\n",
      "5     7931.658310\n",
      "Name: charges, dtype: float64\n",
      "children\n",
      "0    11905.714276\n",
      "1    12161.360414\n",
      "2    13941.317326\n",
      "3    13865.605066\n",
      "4    13937.674562\n",
      "5     9854.006419\n",
      "Name: charges, dtype: float64\n"
     ]
    }
   ],
   "source": [
    "# Group male and female policy holders by number of children\n",
    "by_children_male = male.groupby('children').mean()\n",
    "by_children_female = female.groupby('children').mean()\n",
    "\n",
    "print(by_children_male['charges'])\n",
    "print(by_children_female['charges'])"
   ]
  },
  {
   "cell_type": "code",
   "execution_count": 17,
   "id": "82e721a8",
   "metadata": {},
   "outputs": [
    {
     "data": {
      "image/png": "[encoded data removed]",
      "text/plain": [
       "<Figure size 792x252 with 2 Axes>"
      ]
     },
     "metadata": {
      "needs_background": "light"
     },
     "output_type": "display_data"
    }
   ],
   "source": [
    "plt.figure(figsize =(11, 3.5))\n",
    "\n",
    "plt.subplot(1,2,1)\n",
    "by_children_male['charges'].plot.bar()\n",
    "plt.title('Premium Charges for Male Policy Holders by Children')\n",
    "plt.xlabel('Children')\n",
    "plt.ylabel('Frequency')\n",
    "plt.xticks(rotation =90)\n",
    "plt.xlim([-1, 6])\n",
    "plt.ylim([0, 20000])\n",
    "\n",
    "plt.subplot(1,2,2)\n",
    "by_children_female['charges'].plot.bar()\n",
    "plt.title('Premium Charges for Female Policy Holders by Children')\n",
    "plt.xlabel('Children')\n",
    "plt.ylabel('Frequency')\n",
    "plt.xticks(rotation =90)\n",
    "plt.xlim([-1, 6])\n",
    "plt.ylim([0, 20000])\n",
    "\n",
    "plt.show()"
   ]
  },
  {
   "cell_type": "markdown",
   "id": "a07aad76",
   "metadata": {},
   "source": [
    "Based on the bar plot above, in this data set there are policy holders that have either 0 children up to 5 total. The bar plot was seperated by if the children are being claimed on a male policy owners's insurance or a female's. There's no clear impact that the number of children have on insurance premiums. Comparing the two graphs to one another, the graphs don't show much difference to one another. The most noticeable is the significant dip in charges that a policy holder(regardless of gender) pays for when they have 5 children comapred to the other frequencies. Looking a bit further into this on the [Blue Cross Blue Shield of Michigan website](https://www.bcbsm.com/index/health-insurance-help/faqs/topics/buying-insurance/family-size-impact-cost.html), this is most likely due to how family size is determined in health insurance coverage. What is meant by this is that premiums only take into account the three oldest children in families of more than three under the age of 21. This could also explains why policy holders with 2-3 children are paying more in insurance but without further information about chronic health conditions related to each policy holder or specific ages of their children, it is impossible to say exactly. "
   ]
  },
  {
   "cell_type": "markdown",
   "id": "d0c0a653",
   "metadata": {},
   "source": [
    "# Smoking Patterns\n",
    "Another category that needs to be explored is the 'smoking' column which provides a yes or no response to whether or not the policy holder smokes. The general consensus would be that smokers will be paying a higher premium due to smoking increasing the risk to one's health. "
   ]
  },
  {
   "cell_type": "code",
   "execution_count": 18,
   "id": "fb79d66b",
   "metadata": {},
   "outputs": [
    {
     "name": "stdout",
     "output_type": "stream",
     "text": [
      "smoker\n",
      "no      8087.204731\n",
      "yes    33042.005975\n",
      "Name: charges, dtype: float64\n",
      "smoker\n",
      "no      8762.297300\n",
      "yes    30678.996276\n",
      "Name: charges, dtype: float64\n"
     ]
    }
   ],
   "source": [
    "# Group male and female policy holders by if they are smokers\n",
    "by_smoker_male = male.groupby('smoker').mean()\n",
    "by_smoker_female = female.groupby('smoker').mean()\n",
    "\n",
    "print(by_smoker_male['charges'])\n",
    "print(by_smoker_female['charges'])"
   ]
  },
  {
   "cell_type": "code",
   "execution_count": 19,
   "id": "ffe2fa4e",
   "metadata": {},
   "outputs": [
    {
     "data": {
      "image/png": "[encoded data removed]",
      "text/plain": [
       "<Figure size 792x252 with 2 Axes>"
      ]
     },
     "metadata": {
      "needs_background": "light"
     },
     "output_type": "display_data"
    }
   ],
   "source": [
    "plt.figure(figsize =(11, 3.5))\n",
    "\n",
    "plt.subplot(1,2,1)\n",
    "by_smoker_male['charges'].plot.bar()\n",
    "plt.title('Charges for Male Policy Holders that Smoke or Not')\n",
    "plt.xlabel('if they smoke?')\n",
    "plt.ylabel('Frequency')\n",
    "plt.xticks(rotation = 360)\n",
    "plt.ylim([0, 35000])\n",
    "\n",
    "plt.subplot(1,2,2)\n",
    "by_smoker_female['charges'].plot.bar()\n",
    "plt.title('Charges for Female Policy Holders that Smoke or Not')\n",
    "plt.xlabel(' if they smoke?')\n",
    "plt.ylabel('Frequency')\n",
    "plt.xticks(rotation = 360)\n",
    "plt.ylim([0, 35000])\n",
    "\n",
    "plt.show()"
   ]
  },
  {
   "cell_type": "markdown",
   "id": "a18d5c1a",
   "metadata": {},
   "source": [
    "A quick glance at the bar plot shows that regardless of gender, smokers are charged 4x as much as their non-smoking counterparts. This makes a lot of sense and I don't believe it requires much explanation. Smokers are a much higher health risk and there's a significant chance that smokers are going to use their insurance a lot more than a healthy individual will in their lifetime. All in all, the premium has to take into account the increased amount of risk that a smoker encompasses in regards to their health. "
   ]
  },
  {
   "cell_type": "markdown",
   "id": "7f894215",
   "metadata": {},
   "source": [
    "# Indicators By Region\n",
    "The final column that I want to explore is the 'region' column and it affects premium charges for policy holders. "
   ]
  },
  {
   "cell_type": "code",
   "execution_count": 20,
   "id": "0700c524",
   "metadata": {},
   "outputs": [
    {
     "data": {
      "image/png": "[encoded data removed]",
      "text/plain": [
       "<Figure size 432x288 with 1 Axes>"
      ]
     },
     "metadata": {
      "needs_background": "light"
     },
     "output_type": "display_data"
    }
   ],
   "source": [
    "by_region= insurance.groupby('region').mean()\n",
    "\n",
    "by_region['charges'].plot.barh()\n",
    "plt.show()"
   ]
  },
  {
   "cell_type": "markdown",
   "id": "34a13d8f",
   "metadata": {},
   "source": [
    "It seems like, on average, not one region exceeds more than 15000 in charges. The region with the highest average premium charge is the southeast region. The [southeast region](https://worldpopulationreview.com/state-rankings/southeast-states) consists of 11 states:\n",
    "- Alabama\n",
    "- Florida\n",
    "- Georgia\n",
    "- Kentucky\n",
    "- Maryland\n",
    "- Mississippi\n",
    "- North Carolina\n",
    "- South Carolina\n",
    "- Tennessee\n",
    "- Virginia\n",
    "- West Virginia\n",
    "\n",
    "An explanation for why the southeast region would have a higher average of premium charges when compared to the other regions could be explained as the region is primarily rural in nature. Rural regions are unfortunately plagued more by  lack of access to care, poor health literacy, and lack of coverage. More information about health care disparities in rural areas can be found [here](https://www.ruralhealthinfo.org/topics/healthcare-access). This is supported in the plot as the southeast region is the only region that has an average charge higher than 14000. Though the southeast region seems like a good area to promote health services to, their strong health disparities pose a high risk in offering coverage. "
   ]
  },
  {
   "cell_type": "markdown",
   "id": "c9b634a9",
   "metadata": {},
   "source": [
    "# Conclusion\n",
    "After performing a thorough analysis of the data set, there seems to strong disparity between premium charges between male and female policy holders especially at certain ages. One conclusion that can be drawn is that as one ages, the cost of the premium will typically follow, with female policy holders having a stronger uptick in the premium they would pay to account for expected risks and costs such as more frequent visits, use of medications, and other issues. Further more, there looks to not be a strong correlation between BMI and premium charges as BMI is seen more and more as an unreliable measure of health. Unless it is abudantly clear with further testing in regards to weight, BMI should not a povotable role in determining premium charges. The # of children that a policy holder has an interesting correlation with the price of their premium. Since the price of the premium is dependent on a outside factor that children aged 21 and under in families that have 3 or more children only count the 3 oldest. This factor significantly effects how a policy holder's premium is charged as seen above with families of 5 or more children paying significantly lower than their other counterparts. What this could suggest is that most families of 5 or more in this data set potentially have kids aged 21 and under that helps elevate the price one would pay for their premium annually. Smoking in relation to premium charges is a simple observation and that is that policy holders that smoke will expect to pay almost 4x as much in their premiums annually, on average, than their non-smoker counterparts. This leads to the conclusion that smoking is considered a very high health risk that many insurance companies will take into account. Finally, premium charges in relation to different regions in the US shows that policy holders that lived in the southeast region of the US are charged, on average, the highest amount in their premiums. After doing some outside research, I can conclude that the reason why that is true is due to how health care is percieved in those type of rural areas. Their is strong lack of health literacy, very few access to care, and social stigma that leads to higher premiums as there are not much options to go by. \n",
    "\n",
    "Thus, the final conclusion I can draw is that the best regions to be in to get the best outcome for coverage and see policy holders that pay a higher premium are metropolitian areas with a preferably younger age group since, at this time, they are more likely to seek out health services but also have individuals that are older that are more likely to have more chronic health conditions. Rural areas do not look like a good region to promote health services as even though, policy holders in those areas are paying a higher premium, one's access to health care services is very limited there so the premium seems to be high only in regards to the fact there isn't much of an option in those areas. "
   ]
  }
 ],
 "metadata": {
  "kernelspec": {
   "display_name": "Python 3",
   "language": "python",
   "name": "python3"
  },
  "language_info": {
   "codemirror_mode": {
    "name": "ipython",
    "version": 3
   },
   "file_extension": ".py",
   "mimetype": "text/x-python",
   "name": "python",
   "nbconvert_exporter": "python",
   "pygments_lexer": "ipython3",
   "version": "3.8.8"
  }
 },
 "nbformat": 4,
 "nbformat_minor": 5
}
